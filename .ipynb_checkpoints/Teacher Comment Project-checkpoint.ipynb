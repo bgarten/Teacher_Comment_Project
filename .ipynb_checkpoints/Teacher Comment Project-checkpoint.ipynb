{
 "cells": [
  {
   "cell_type": "code",
   "execution_count": 9,
   "metadata": {},
   "outputs": [
    {
     "name": "stdout",
     "output_type": "stream",
     "text": [
      "[['Brian', 'he', 'Computer Science', 'Math', 'Good', 'Good', 'Good', 'Good', '103', '110', 'Teacher Comments Project', '100', '', '', '', ''], ['Jack', 'he', 'Genetics', 'Science', 'OK', 'Needs Improvement', 'OK', 'Excelent', '104', '32', 'Memology', '24', 'Cat Genetics', '99.5', '', ''], ['Noah', 'he', 'Honors Algebra 2', 'Math', 'Needs Improvement', 'Good', 'Needs Improvement', 'Good', '62', '94', 'Stock Project', '72', 'Bowling Project', '80', 'Mathematical Modeling', '85']]\n",
      "['\\ufeffStudent', 'Pronoun (he/she/they)', 'Class Name', 'Class Type (English, Math, etc.)', 'Work Ethic (Good/OK/Needs Improvement)', 'Class Participation (Good/OK/Needs Improvement)', 'Small Group Participation (Good/OK/Needs Improvement)', 'Teacher Communication (Good/OK/Needs Improvement)', 'Overall Grade', 'Tests/Assesments Grade', 'Project 1 Name', 'Project 1 Grade', 'Project 2 Name', 'Project 2 Grade', 'Project 3 Name', 'Project 3 Grade']\n"
     ]
    }
   ],
   "source": [
    "#teacher comment project\n",
    "import csv\n",
    "\n",
    "student=[]\n",
    "\n",
    "with open('teacher.csv') as teach:\n",
    "    data=csv.reader(teach,delimiter=',')\n",
    "    header=next(data,None)\n",
    "    for row in data:\n",
    "        student.append(row)\n",
    "        \n",
    "print(student)\n",
    "print(header)"
   ]
  },
  {
   "cell_type": "code",
   "execution_count": null,
   "metadata": {
    "collapsed": true
   },
   "outputs": [],
   "source": [
    "def math(kid):\n",
    "    course_description='This semester in',kid[2] #+\", we covered the topics of limits, continuity, and differentiation and began the study of integration, which we will continue into the second semester. In addition to daily homework and frequent quizzes, we had three in-class unit tests, a cumulative final exam, and two projects, one on predicting stock prices using derivatives and one on modeling fluid flow using related rates and Torricelli's law\"\n",
    "    if kid[4].lower()=='good':\n",
    "        personal_1=kid[0],'has stellar work ethic and student habits.'\n",
    "    elif kid[4].lower()=='ok':\n",
    "        personal_1=kid[0],'consistently puts in effort, and is still forming good student habits.'\n",
    "    else:\n",
    "        personal_1=kid[0],'attempts to focus in class, only sometimes succeeding.'\n",
    "    if kid[5].lower()='good':\n",
    "        personal_2=\n",
    "    elif kid[5].lower()='ok':\n",
    "        personal_2=\n",
    "    else:\n",
    "        personal_2=\n",
    "    if kid[6].lower()='good':\n",
    "        personal_3=\n",
    "    elif kid[6].lower()='ok':\n",
    "        personal_3=\n",
    "    else:\n",
    "        personal_3=\n",
    "    if kid[7].lower()='good':\n",
    "        personal_4=\n",
    "    elif kid[7].lower()='ok':\n",
    "        personal_4=\n",
    "    else:\n",
    "        personal_4=\n",
    "def science(kid):\n",
    "    \n",
    "\n",
    "def english(kid):\n",
    "    \n",
    "\n",
    "def history(kid):\n",
    "    \n",
    "\n",
    "def religion(kid):\n",
    "    \n",
    "\n",
    "def vapa(kid):\n",
    "    \n",
    "\n",
    "def english(kid):\n",
    "    \n",
    "\n",
    "\n",
    "for kid in student:\n",
    "    if kid[3].lower()=='math':\n",
    "        math(kid)\n",
    "    elif kid[3].lower()=='science':\n",
    "        science(kid)\n",
    "    elif kid[3].lower()=='english':\n",
    "        english(kid)\n",
    "    elif kid[3].lower()=='history':\n",
    "        history(kid)\n",
    "    elif kid[3].lower()=='religion':\n",
    "        religion(kid)\n",
    "    elif kid[3].lower()=='vapa':\n",
    "        vapa(kid)\n",
    "    elif kid[3].lower()=='language':\n",
    "        language(kid)"
   ]
  },
  {
   "cell_type": "code",
   "execution_count": null,
   "metadata": {
    "collapsed": true
   },
   "outputs": [],
   "source": []
  }
 ],
 "metadata": {
  "kernelspec": {
   "display_name": "Python 3",
   "language": "python",
   "name": "python3"
  },
  "language_info": {
   "codemirror_mode": {
    "name": "ipython",
    "version": 3
   },
   "file_extension": ".py",
   "mimetype": "text/x-python",
   "name": "python",
   "nbconvert_exporter": "python",
   "pygments_lexer": "ipython3",
   "version": "3.6.1"
  }
 },
 "nbformat": 4,
 "nbformat_minor": 2
}
